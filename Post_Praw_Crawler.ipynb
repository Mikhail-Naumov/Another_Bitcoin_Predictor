{
 "cells": [
  {
   "cell_type": "code",
   "execution_count": 13,
   "metadata": {},
   "outputs": [
    {
     "name": "stdout",
     "output_type": "stream",
     "text": [
      "Searching Dates before 2017-05-04 19:45:36\n",
      "Search took 5 seconds\n",
      "\n",
      "fin\n"
     ]
    }
   ],
   "source": [
    "import json\n",
    "import pandas as pd\n",
    "import numpy as np\n",
    "import requests\n",
    "import time\n",
    "import datetime as dt\n",
    "import gc\n",
    "\n",
    "#do I want to update from a preexisting csv?\n",
    "update = False\n",
    "#Which subreddit?\n",
    "subreddit = 'Bitcoin'\n",
    "\n",
    "def epoch_to_date(epoch_time):\n",
    "    return dt.datetime.fromtimestamp(epoch_time).strftime('%Y-%m-%d %H:%M:%S')\n",
    "\n",
    "def date_to_epoch(df_date):\n",
    "    pattern = '%Y-%m-%d %H:%M:%S'\n",
    "    return int(time.mktime(time.strptime(df_date, pattern)))\n",
    "\n",
    "def rq(moving_date):\n",
    "    # generates a request asking: before 'moving_date'\n",
    "    # if update. requests asks: before 'moving' and after 'last_date'\n",
    "    if update==False:\n",
    "        r = requests.get(\"https://api.pushshift.io/reddit/search/submission/\"+\n",
    "             \"?subreddit={}&size=500&is_video=False&before={}\".format(subreddit,moving_date))\n",
    "    else:\n",
    "        r =  requests.get(\"https://api.pushshift.io/reddit/search/submission/\"+\n",
    "             \"?subreddit={}&size=500&is_video=False&before={}&after={}\".format(subreddit,moving_date,last_date))\n",
    "    return r\n",
    "\n",
    "\n",
    "#here we import the previous dataset to know 'until when do we update', which is defined as 'last_date'\n",
    "if update==True:\n",
    "    #imports previous csv\n",
    "    df_0 = pd.read_csv('./Data/Reddit_{}_PushShift.csv'.format(subreddit),index_col=0)    \n",
    "    \n",
    "    #last date = 48h (2 days) before time of last post\n",
    "    last_date = date_to_epoch(df_0.date.max())-(86400 * 2)\n",
    "    \n",
    "    #remakes df, to allow 48 hours overlap \n",
    "    df_0 = df_0[df_0['date'] > epoch_to_date(last_date)]\n",
    "\n",
    "\n",
    "init = True\n",
    "df = pd.DataFrame()\n",
    "moving_date = round(time.time())\n",
    "\n",
    "#for testing\n",
    "#moving_date = 1494113957 #may 5th\n",
    "#moving_date = 1494200357 #may 7th\n",
    "\n",
    "\n",
    "while (init or len(r.json()['data'])>0):\n",
    "    init = False\n",
    "    n_ls = []\n",
    "    t0=time.time()\n",
    "    \n",
    "    print('Searching Dates before {}'.format(epoch_to_date(moving_date)))\n",
    "    r = rq(moving_date)\n",
    "    #requesting: pushshifts limit is 200r/min\n",
    "     \n",
    "    #time.sleep(1.5)\n",
    "    #at 1.5 sec, we are under 100r/min\n",
    "    \n",
    "    if len(r.json()['data'])==0:\n",
    "        print('fin') #end of datastream\n",
    "        break\n",
    "\n",
    "    for sub in r.json()['data']:\n",
    "        n_dic = {}\n",
    "        n_dic['date'] = epoch_to_date(sub['created_utc'])\n",
    "        n_dic['author'] = sub['author']\n",
    "        n_dic['comments'] = sub['num_comments']\n",
    "        n_dic['score'] = sub['score']\n",
    "        n_dic['title'] = sub['title']\n",
    "        n_dic['url'] = sub['url']\n",
    "        n_ls.append(n_dic)\n",
    "    df = df.append(pd.DataFrame(n_ls))\n",
    "\n",
    "    #moving search window\n",
    "    moving_date = date_to_epoch(df.date.min())\n",
    "    dur=round(time.time()-t0)\n",
    "    print('Search took {} seconds\\n'.format(dur))\n",
    "    \n",
    "    #shaves time if needed\n",
    "    if dur > 1.5:\n",
    "        time.sleep(1.5)\n",
    "\n",
    "if update:\n",
    "    df = df.append(df_0).sort_values('date',ascending=True)\n",
    "df.to_csv('./Data/Reddit_{}_PushShift.csv'.format(subreddit))"
   ]
  },
  {
   "cell_type": "code",
   "execution_count": 15,
   "metadata": {},
   "outputs": [
    {
     "data": {
      "text/plain": [
       "'2018-09-06 19:49:51'"
      ]
     },
     "execution_count": 15,
     "metadata": {},
     "output_type": "execute_result"
    }
   ],
   "source": [
    "epoch_to_date(time.time())"
   ]
  },
  {
   "cell_type": "code",
   "execution_count": 17,
   "metadata": {},
   "outputs": [
    {
     "data": {
      "text/plain": [
       "'2017-05-04 19:45:36'"
      ]
     },
     "execution_count": 17,
     "metadata": {},
     "output_type": "execute_result"
    }
   ],
   "source": [
    "epoch_to_date(moving_date)"
   ]
  },
  {
   "cell_type": "code",
   "execution_count": null,
   "metadata": {},
   "outputs": [],
   "source": []
  }
 ],
 "metadata": {
  "kernelspec": {
   "display_name": "Python [default]",
   "language": "python",
   "name": "python3"
  },
  "language_info": {
   "codemirror_mode": {
    "name": "ipython",
    "version": 3
   },
   "file_extension": ".py",
   "mimetype": "text/x-python",
   "name": "python",
   "nbconvert_exporter": "python",
   "pygments_lexer": "ipython3",
   "version": "3.6.4"
  }
 },
 "nbformat": 4,
 "nbformat_minor": 2
}
