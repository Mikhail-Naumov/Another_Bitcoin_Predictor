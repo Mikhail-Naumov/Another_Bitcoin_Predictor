{
 "cells": [
  {
   "cell_type": "code",
   "execution_count": 5,
   "metadata": {},
   "outputs": [],
   "source": [
    "Update = False"
   ]
  },
  {
   "cell_type": "markdown",
   "metadata": {},
   "source": [
    "# Simple Bitcoin predictive Model"
   ]
  },
  {
   "cell_type": "markdown",
   "metadata": {},
   "source": [
    "## Imports & API"
   ]
  },
  {
   "cell_type": "markdown",
   "metadata": {},
   "source": [
    "### Imports"
   ]
  },
  {
   "cell_type": "code",
   "execution_count": 20,
   "metadata": {
    "scrolled": true
   },
   "outputs": [],
   "source": [
    "import json\n",
    "import time\n",
    "from tqdm import tqdm\n",
    "\n",
    "import pandas as pd\n",
    "import numpy as np\n",
    "from matplotlib import pyplot as plt\n",
    "from sklearn.preprocessing import MinMaxScaler\n",
    "\n",
    "#scrap / API\n",
    "import praw\n",
    "import requests \n",
    "\n",
    "#ARIMA\n",
    "from statsmodels.tsa.stattools import pacf, acf\n",
    "from statsmodels.graphics.tsaplots import plot_pacf, plot_acf\n",
    "from statsmodels.tsa.seasonal import seasonal_decompose\n",
    "\n",
    "#LSTM RNN\n",
    "#from keras.models import Sequential\n",
    "#from keras.layers import Dense, Dropout\n",
    "#from keras.layers import LSTM"
   ]
  },
  {
   "cell_type": "code",
   "execution_count": 3,
   "metadata": {},
   "outputs": [],
   "source": [
    "with open('keys.json') as f:\n",
    "    key = json.loads(f.read())"
   ]
  },
  {
   "cell_type": "markdown",
   "metadata": {},
   "source": [
    "### BitCoin Market API Fetching & Cleaning"
   ]
  },
  {
   "cell_type": "markdown",
   "metadata": {},
   "source": [
    "Variables of note: <br>\n",
    "```c_code``` = Crypto value's code <br>\n",
    "```c_market``` = Crypto value's market <br>\n",
    "```c_``` = Cryto value's common name <br>\n",
    "```crypto.columns = ['open','high','low','close','volume','cap']```"
   ]
  },
  {
   "cell_type": "code",
   "execution_count": 118,
   "metadata": {},
   "outputs": [],
   "source": [
    "#declaring Fetch parameters\n",
    "c_code = 'BTC'\n",
    "c_market = 'USD'\n",
    "\n",
    "if Update:\n",
    "    #Fetching Data\n",
    "    cryptos = requests.get(\"https://www.alphavantage.co/query?function=DIGITAL_CURRENCY_DAILY&symbol={}&market={}&apikey={}\".format(c_code,c_market,key['bit_api_key']))\n",
    "\n",
    "    #Assigning \"name\" for ease\n",
    "    c_ = cryptos.json()['Meta Data']['3. Digital Currency Name']\n",
    "\n",
    "    #Organizing Data\n",
    "    crypto = pd.DataFrame.from_dict(cryptos.json()['Time Series (Digital Currency Daily)'],orient='index',dtype='float')\n",
    "    crypto = crypto.drop(['1b. open (USD)','2b. high (USD)','3b. low (USD)','4b. close (USD)'],axis=1)\n",
    "    crypto.columns = ['open','high','low','close','volume','cap']\n",
    "    crypto.index = pd.to_datetime(crypto.index)\n",
    "\n",
    "    #Cleaning Missing Data\n",
    "    print(\"There are {} days between the first and last time stamp, however our API captured {} days.\".format(str(crypto.index[-1] - crypto.index[0]).split(\" \")[0],len(crypto)))\n",
    "\n",
    "    if int(str(crypto.index[-1] - crypto.index[0]).split(\" \")[0]) - len(crypto) > 5:\n",
    "        idx = pd.date_range(crypto.index[0], crypto.index[-1])\n",
    "        crypto = crypto.reindex(idx, fill_value=np.nan)\n",
    "        print(\"So we will need to interpolate the {} missing days.\".format(crypto.isnull().sum()[0]))\n",
    "        crypto = crypto.interpolate()\n",
    "    else:\n",
    "        print(\"as such we dont need to interpolate any missing days\")\n",
    "\n",
    "    crypto.to_csv('./Data/Market.csv')\n",
    "\n",
    "else:\n",
    "    #will import last fetched csv\n",
    "    c_ = c_code\n",
    "    crypto = pd.read_csv('./Data/Market.csv',index_col=0)"
   ]
  },
  {
   "cell_type": "code",
   "execution_count": 120,
   "metadata": {},
   "outputs": [
    {
     "data": {
      "image/png": "[encoded data removed]",
      "text/plain": [
       "<matplotlib.figure.Figure at 0x1c17d76080>"
      ]
     },
     "metadata": {},
     "output_type": "display_data"
    }
   ],
   "source": [
    "#Sanity Check\n",
    "crypto.open.plot();\n",
    "plt.title(\"{}'s opening value over time\".format(c_));"
   ]
  },
  {
   "cell_type": "markdown",
   "metadata": {},
   "source": [
    "### Reddit API Fetching & Cleaning - WARNING: Reddit updated their API, using old csv"
   ]
  },
  {
   "cell_type": "code",
   "execution_count": 91,
   "metadata": {},
   "outputs": [],
   "source": [
    "reddit = praw.Reddit(client_id=key[\"Reddit\"]['client_id'],\n",
    "                     client_secret=key[\"Reddit\"]['client_secret'],\n",
    "                     password=key[\"Reddit\"]['password'],\n",
    "                     user_agent=key[\"Reddit\"]['user_agent'],\n",
    "                     username=key[\"Reddit\"]['username'])"
   ]
  },
  {
   "cell_type": "code",
   "execution_count": 92,
   "metadata": {},
   "outputs": [],
   "source": [
    "def scrap_time(sub,start=1514764800,end=round(time.time())):\n",
    "    \"\"\"\n",
    "    pulls all subreddit threads from January 1st 2018 (1514764800) \n",
    "    until time.now, unless specified\n",
    "    collects post:\n",
    "    Title, Score, # of Comments, Post Date, Is_video(boolean)\n",
    "    \"\"\"\n",
    "    funny = reddit.subreddit(sub)\n",
    "    hot_funny = funny.submissions(start,end)\n",
    "\n",
    "    funny_list = []\n",
    "    for submit in tqdm(hot_funny):\n",
    "        if not submit.stickied:\n",
    "            fun = {}\n",
    "            fun['title'] = submit.title\n",
    "            fun['score'] = submit.score\n",
    "            fun['comments'] = submit.num_comments\n",
    "            fun['date'] = datetime.datetime.fromtimestamp(submit.created)\n",
    "            fun['is_video'] = submit.is_video\n",
    "            funny_list.append(fun)\n",
    "    df = pd.DataFrame(funny_list)\n",
    "    return(df)"
   ]
  },
  {
   "cell_type": "code",
   "execution_count": 93,
   "metadata": {},
   "outputs": [],
   "source": [
    "#reddit = scrap_time('CryptoCurrency',1521889600)"
   ]
  },
  {
   "cell_type": "code",
   "execution_count": 94,
   "metadata": {},
   "outputs": [],
   "source": [
    "# #HOT LIMIT 100\n",
    "# funny_list = []\n",
    "# for submit in reddit.subreddit('CryptoCurrency').hot(limit=100):\n",
    "#     fun = {}\n",
    "#     fun['title'] = submit.title\n",
    "#     fun['score'] = submit.score\n",
    "#     fun['comments'] = submit.num_comments\n",
    "#     fun['date'] = datetime.datetime.fromtimestamp(submit.created)\n",
    "#     fun['is_video'] = submit.is_video\n",
    "#     funny_list.append(fun)\n",
    "# df = pd.DataFrame(funny_list)"
   ]
  },
  {
   "cell_type": "code",
   "execution_count": 105,
   "metadata": {},
   "outputs": [],
   "source": [
    "reddit = pd.read_csv('./Data/Reddit_Crypto-Copy1.csv')"
   ]
  },
  {
   "cell_type": "code",
   "execution_count": 106,
   "metadata": {},
   "outputs": [],
   "source": [
    "reddit.title = reddit.title.str.lower()\n",
    "reddit = reddit.drop('Unnamed: 0',axis=1)\n",
    "reddit.date = pd.to_datetime(reddit['date']).dt.date"
   ]
  },
  {
   "cell_type": "code",
   "execution_count": 111,
   "metadata": {},
   "outputs": [
    {
     "data": {
      "text/html": [
       "<div>\n",
       "<style scoped>\n",
       "    .dataframe tbody tr th:only-of-type {\n",
       "        vertical-align: middle;\n",
       "    }\n",
       "\n",
       "    .dataframe tbody tr th {\n",
       "        vertical-align: top;\n",
       "    }\n",
       "\n",
       "    .dataframe thead th {\n",
       "        text-align: right;\n",
       "    }\n",
       "</style>\n",
       "<table border=\"1\" class=\"dataframe\">\n",
       "  <thead>\n",
       "    <tr style=\"text-align: right;\">\n",
       "      <th></th>\n",
       "      <th>comments</th>\n",
       "      <th>date</th>\n",
       "      <th>is_video</th>\n",
       "      <th>score</th>\n",
       "      <th>title</th>\n",
       "    </tr>\n",
       "  </thead>\n",
       "  <tbody>\n",
       "    <tr>\n",
       "      <th>0</th>\n",
       "      <td>1</td>\n",
       "      <td>2018-03-26</td>\n",
       "      <td>False</td>\n",
       "      <td>1</td>\n",
       "      <td>a reminder of all the logical fallacies one sh...</td>\n",
       "    </tr>\n",
       "    <tr>\n",
       "      <th>1</th>\n",
       "      <td>0</td>\n",
       "      <td>2018-03-26</td>\n",
       "      <td>False</td>\n",
       "      <td>1</td>\n",
       "      <td>just filed crypto \"not so like-kind\" exchange ...</td>\n",
       "    </tr>\n",
       "    <tr>\n",
       "      <th>2</th>\n",
       "      <td>0</td>\n",
       "      <td>2018-03-26</td>\n",
       "      <td>False</td>\n",
       "      <td>3</td>\n",
       "      <td>bitmain have developed asic for ethereum - tar...</td>\n",
       "    </tr>\n",
       "    <tr>\n",
       "      <th>3</th>\n",
       "      <td>1</td>\n",
       "      <td>2018-03-26</td>\n",
       "      <td>False</td>\n",
       "      <td>2</td>\n",
       "      <td>shitpost \"investing\" experiment - update</td>\n",
       "    </tr>\n",
       "    <tr>\n",
       "      <th>4</th>\n",
       "      <td>0</td>\n",
       "      <td>2018-03-26</td>\n",
       "      <td>False</td>\n",
       "      <td>1</td>\n",
       "      <td>bringing the fun back to fungibility</td>\n",
       "    </tr>\n",
       "  </tbody>\n",
       "</table>\n",
       "</div>"
      ],
      "text/plain": [
       "   comments        date  is_video  score  \\\n",
       "0         1  2018-03-26     False      1   \n",
       "1         0  2018-03-26     False      1   \n",
       "2         0  2018-03-26     False      3   \n",
       "3         1  2018-03-26     False      2   \n",
       "4         0  2018-03-26     False      1   \n",
       "\n",
       "                                               title  \n",
       "0  a reminder of all the logical fallacies one sh...  \n",
       "1  just filed crypto \"not so like-kind\" exchange ...  \n",
       "2  bitmain have developed asic for ethereum - tar...  \n",
       "3           shitpost \"investing\" experiment - update  \n",
       "4               bringing the fun back to fungibility  "
      ]
     },
     "execution_count": 111,
     "metadata": {},
     "output_type": "execute_result"
    }
   ],
   "source": [
    "reddit.head()"
   ]
  },
  {
   "cell_type": "code",
   "execution_count": 150,
   "metadata": {},
   "outputs": [],
   "source": [
    "#I am only doing the number of comments per day in the cryt subreddit\n",
    "reddit = pd.DataFrame(reddit.groupby('date')['comments','score'].sum())"
   ]
  },
  {
   "cell_type": "code",
   "execution_count": 151,
   "metadata": {},
   "outputs": [],
   "source": [
    "reddit.index = pd.to_datetime(reddit.index)"
   ]
  },
  {
   "cell_type": "code",
   "execution_count": 152,
   "metadata": {},
   "outputs": [
    {
     "data": {
      "text/html": [
       "<div>\n",
       "<style scoped>\n",
       "    .dataframe tbody tr th:only-of-type {\n",
       "        vertical-align: middle;\n",
       "    }\n",
       "\n",
       "    .dataframe tbody tr th {\n",
       "        vertical-align: top;\n",
       "    }\n",
       "\n",
       "    .dataframe thead th {\n",
       "        text-align: right;\n",
       "    }\n",
       "</style>\n",
       "<table border=\"1\" class=\"dataframe\">\n",
       "  <thead>\n",
       "    <tr style=\"text-align: right;\">\n",
       "      <th></th>\n",
       "      <th>comments</th>\n",
       "      <th>score</th>\n",
       "    </tr>\n",
       "    <tr>\n",
       "      <th>date</th>\n",
       "      <th></th>\n",
       "      <th></th>\n",
       "    </tr>\n",
       "  </thead>\n",
       "  <tbody>\n",
       "    <tr>\n",
       "      <th>2017-10-25</th>\n",
       "      <td>3076</td>\n",
       "      <td>4810</td>\n",
       "    </tr>\n",
       "    <tr>\n",
       "      <th>2017-10-26</th>\n",
       "      <td>3146</td>\n",
       "      <td>7692</td>\n",
       "    </tr>\n",
       "    <tr>\n",
       "      <th>2017-10-27</th>\n",
       "      <td>4388</td>\n",
       "      <td>6809</td>\n",
       "    </tr>\n",
       "    <tr>\n",
       "      <th>2017-10-28</th>\n",
       "      <td>2108</td>\n",
       "      <td>4612</td>\n",
       "    </tr>\n",
       "    <tr>\n",
       "      <th>2017-10-29</th>\n",
       "      <td>2089</td>\n",
       "      <td>2507</td>\n",
       "    </tr>\n",
       "  </tbody>\n",
       "</table>\n",
       "</div>"
      ],
      "text/plain": [
       "            comments  score\n",
       "date                       \n",
       "2017-10-25      3076   4810\n",
       "2017-10-26      3146   7692\n",
       "2017-10-27      4388   6809\n",
       "2017-10-28      2108   4612\n",
       "2017-10-29      2089   2507"
      ]
     },
     "execution_count": 152,
     "metadata": {},
     "output_type": "execute_result"
    }
   ],
   "source": [
    "reddit.head()"
   ]
  },
  {
   "cell_type": "code",
   "execution_count": 153,
   "metadata": {},
   "outputs": [
    {
     "data": {
      "image/png": "[encoded data removed]",
      "text/plain": [
       "<matplotlib.figure.Figure at 0x1c1924ea20>"
      ]
     },
     "metadata": {},
     "output_type": "display_data"
    }
   ],
   "source": [
    "reddit.plot();"
   ]
  },
  {
   "cell_type": "code",
   "execution_count": 154,
   "metadata": {},
   "outputs": [
    {
     "name": "stdout",
     "output_type": "stream",
     "text": [
      "There are 152 days between the first and last time stamp, however our API captured 153 days.\n",
      "as such we dont need to interpolate any missing days\n"
     ]
    }
   ],
   "source": [
    "#Cleaning Missing Data\n",
    "print(\"There are {} days between the first and last time stamp, however our API captured {} days.\".format(str(reddit.index[-1] - reddit.index[0]).split(\" \")[0],len(reddit)))\n",
    "\n",
    "if int(str(reddit.index[-1] - reddit.index[0]).split(\" \")[0]) - len(reddit) > 5:\n",
    "    idx = pd.date_range(reddit.index[0], reddit.index[-1])\n",
    "    reddit = reddit.reindex(idx, fill_value=np.nan)\n",
    "    print(\"So we will need to interpolate the {} missing days.\".format(reddit.isnull().sum()[0]))\n",
    "    reddit = reddit.interpolate()\n",
    "else:\n",
    "    print(\"as such we dont need to interpolate any missing days\")"
   ]
  },
  {
   "cell_type": "code",
   "execution_count": 155,
   "metadata": {},
   "outputs": [],
   "source": [
    "#I will eventually implment a predictor comparing reddit comments with the values\n",
    "#bit = bit.join(reddit)"
   ]
  },
  {
   "cell_type": "code",
   "execution_count": null,
   "metadata": {},
   "outputs": [],
   "source": []
  },
  {
   "cell_type": "code",
   "execution_count": 156,
   "metadata": {},
   "outputs": [],
   "source": [
    "bit = crypto "
   ]
  },
  {
   "cell_type": "code",
   "execution_count": 157,
   "metadata": {},
   "outputs": [],
   "source": [
    "bit = bit.merge(reddit,left_index=True, right_index=True)"
   ]
  },
  {
   "cell_type": "markdown",
   "metadata": {},
   "source": [
    "## Preliminary EDA"
   ]
  },
  {
   "cell_type": "code",
   "execution_count": 158,
   "metadata": {},
   "outputs": [],
   "source": [
    "mm = MinMaxScaler()"
   ]
  },
  {
   "cell_type": "code",
   "execution_count": 159,
   "metadata": {},
   "outputs": [],
   "source": [
    "bit2 = mm.fit_transform(bit)"
   ]
  },
  {
   "cell_type": "code",
   "execution_count": 160,
   "metadata": {},
   "outputs": [],
   "source": [
    "bit2 = pd.DataFrame(bit2,columns=bit.columns)"
   ]
  },
  {
   "cell_type": "code",
   "execution_count": 165,
   "metadata": {},
   "outputs": [
    {
     "data": {
      "text/plain": [
       "<matplotlib.axes._subplots.AxesSubplot at 0x1c1907f908>"
      ]
     },
     "execution_count": 165,
     "metadata": {},
     "output_type": "execute_result"
    },
    {
     "data": {
      "image/png": "[encoded data removed]",
      "text/plain": [
       "<matplotlib.figure.Figure at 0x1c195561d0>"
      ]
     },
     "metadata": {},
     "output_type": "display_data"
    }
   ],
   "source": [
    "bit2[['open','close','comments','score']].plot()"
   ]
  },
  {
   "cell_type": "code",
   "execution_count": null,
   "metadata": {},
   "outputs": [],
   "source": []
  },
  {
   "cell_type": "code",
   "execution_count": 121,
   "metadata": {},
   "outputs": [
    {
     "data": {
      "image/png": "[encoded data removed]",
      "text/plain": [
       "<matplotlib.figure.Figure at 0x1c17ead978>"
      ]
     },
     "metadata": {},
     "output_type": "display_data"
    }
   ],
   "source": [
    "#\n",
    "crypto.open.plot()\n",
    "plt.title('{} Opening Price Index'.format(c_))\n",
    "plt.ylabel('Dollars')\n",
    "plt.xlabel('Year');"
   ]
  },
  {
   "cell_type": "code",
   "execution_count": 122,
   "metadata": {},
   "outputs": [
    {
     "data": {
      "image/png": "[encoded data removed]",
      "text/plain": [
       "<matplotlib.figure.Figure at 0x1c17f0b550>"
      ]
     },
     "metadata": {},
     "output_type": "display_data"
    }
   ],
   "source": [
    "#weekly rolling avg by week\n",
    "crypto.open.rolling(window=7, center=False).mean().plot()\n",
    "plt.title('{} opening value, Weekly Rolling Avg'.format(c_code))\n",
    "plt.ylabel('Dollars')\n",
    "plt.xlabel('Year');"
   ]
  },
  {
   "cell_type": "markdown",
   "metadata": {},
   "source": [
    "### Autocorrelation & Partial Autocorrelation"
   ]
  },
  {
   "cell_type": "markdown",
   "metadata": {},
   "source": [
    "because of how correlated every day's bitcoin value is dependant on the day before,\n",
    "we look at its autocorrelation.\n",
    "    - (correlation, to itself)"
   ]
  },
  {
   "cell_type": "code",
   "execution_count": 123,
   "metadata": {},
   "outputs": [
    {
     "data": {
      "image/png": "[encoded data removed]",
      "text/plain": [
       "<matplotlib.figure.Figure at 0x1c17dd23c8>"
      ]
     },
     "metadata": {},
     "output_type": "display_data"
    }
   ],
   "source": [
    "plot_acf(crypto.open, lags=30)\n",
    "plt.title('Autocorrelation of {} (Opening Value)'.format(c_code));"
   ]
  },
  {
   "cell_type": "code",
   "execution_count": 124,
   "metadata": {},
   "outputs": [
    {
     "data": {
      "image/png": "[encoded data removed]",
      "text/plain": [
       "<matplotlib.figure.Figure at 0x1c17d77f98>"
      ]
     },
     "metadata": {},
     "output_type": "display_data"
    }
   ],
   "source": [
    "plot_pacf(crypto.open, lags=30);"
   ]
  },
  {
   "cell_type": "code",
   "execution_count": null,
   "metadata": {},
   "outputs": [],
   "source": [
    "#\n",
    "crypto[crypto.index>'2017-10-25']['open'].plot()\n",
    "plt.title('{} Price Index (After Oct 25th, 2017)'.format(c_))\n",
    "plt.ylabel('Dollars')\n",
    "plt.xlabel('Year');"
   ]
  },
  {
   "cell_type": "code",
   "execution_count": null,
   "metadata": {},
   "outputs": [],
   "source": [
    "\"\"\"\n",
    "bit[bit.index>'2017-10-25']['comments'].plot()\n",
    "plt.title('BitCoin Reddit Activity (After Oct 25th, 2017)')\n",
    "plt.ylabel('n Comments')\n",
    "plt.xlabel('Year');\n",
    "\"\"\""
   ]
  },
  {
   "cell_type": "markdown",
   "metadata": {
    "heading_collapsed": true
   },
   "source": [
    "## Trend, Seasonality & Trend"
   ]
  },
  {
   "cell_type": "code",
   "execution_count": null,
   "metadata": {
    "hidden": true
   },
   "outputs": [],
   "source": [
    "result = seasonal_decompose(crypto.open)\n",
    "result.plot();"
   ]
  },
  {
   "cell_type": "markdown",
   "metadata": {
    "hidden": true
   },
   "source": [
    "Well that looks like a mess, likely due to the amount of time when bitcoin was worthless"
   ]
  },
  {
   "cell_type": "markdown",
   "metadata": {
    "hidden": true
   },
   "source": [
    "Lets look at it when bitcoin became a bit more relivant"
   ]
  },
  {
   "cell_type": "code",
   "execution_count": null,
   "metadata": {
    "hidden": true
   },
   "outputs": [],
   "source": [
    "relivant  = crypto[crypto.open.index>'2016-10-27']['open']"
   ]
  },
  {
   "cell_type": "code",
   "execution_count": null,
   "metadata": {
    "hidden": true
   },
   "outputs": [],
   "source": [
    "result = seasonal_decompose(relivant)\n",
    "result.plot();"
   ]
  },
  {
   "cell_type": "markdown",
   "metadata": {
    "hidden": true
   },
   "source": [
    "That looks better, but still a lot of dead time"
   ]
  },
  {
   "cell_type": "code",
   "execution_count": null,
   "metadata": {
    "hidden": true
   },
   "outputs": [],
   "source": [
    "more_rel = crypto[crypto.index>='2017-10-25']\n",
    "seasonal_decompose(more_rel.open).plot();"
   ]
  },
  {
   "cell_type": "markdown",
   "metadata": {
    "hidden": true
   },
   "source": [
    "Much better, well now we can see some clearer trends."
   ]
  },
  {
   "cell_type": "markdown",
   "metadata": {
    "hidden": true
   },
   "source": [
    "This shows us:\n",
    "    - a clearer trend over time peaking in late Dec\n",
    "    - Bitcoin does not seem to be heavily affected by seasonality, only +/- 100\n",
    "    - Residuals seem to make up the majority of variability, which makes sense consider how  bitcoins have stronger social driving factors rather than seasonal/global"
   ]
  },
  {
   "cell_type": "markdown",
   "metadata": {
    "hidden": true
   },
   "source": [
    "Looking for other predictors of Bitcoin Value:\n",
    "    - I am curious to see if reddit's cryptocurrency subreddit may be a predictor."
   ]
  },
  {
   "cell_type": "code",
   "execution_count": null,
   "metadata": {
    "hidden": true
   },
   "outputs": [],
   "source": [
    "#bit = bit[bit.index>='2017-10-25']"
   ]
  },
  {
   "cell_type": "code",
   "execution_count": null,
   "metadata": {
    "hidden": true
   },
   "outputs": [],
   "source": [
    "#seasonal_decompose(bit.comments).plot();"
   ]
  },
  {
   "cell_type": "markdown",
   "metadata": {
    "hidden": true
   },
   "source": [
    "It looks like the comments are much more affected by seasonality, than the coin's value, however +/- 2000 is still not very much when compared to the noise of 10,000"
   ]
  },
  {
   "cell_type": "code",
   "execution_count": null,
   "metadata": {
    "hidden": true
   },
   "outputs": [],
   "source": [
    "seasonal_decompose(more_rel.open).trend.plot()\n",
    "plt.title('{} Value Trend'.format(c_));"
   ]
  },
  {
   "cell_type": "code",
   "execution_count": null,
   "metadata": {
    "hidden": true
   },
   "outputs": [],
   "source": [
    "#seasonal_decompose(bit.comments).trend.plot()\n",
    "#plt.title('Reddit Activity Trend');"
   ]
  },
  {
   "cell_type": "code",
   "execution_count": null,
   "metadata": {
    "hidden": true
   },
   "outputs": [],
   "source": [
    "\"\"\"\n",
    "plt.subplot(211)\n",
    "seasonal_decompose(more_rel).trend.plot()\n",
    "plt.title('Bitcoin Value Trend')\n",
    "plt.subplot(212)\n",
    "seasonal_decompose(bit.comments).trend.plot()\n",
    "plt.title('Reddit Activity Trend');\n",
    "\"\"\""
   ]
  },
  {
   "cell_type": "markdown",
   "metadata": {
    "heading_collapsed": true
   },
   "source": [
    "## LSTM RNN"
   ]
  },
  {
   "cell_type": "markdown",
   "metadata": {
    "hidden": true
   },
   "source": [
    "I am sceptical that this NN this will provide much insight, considering our seasonality analysis showed how heavily residuals affect the overall value."
   ]
  },
  {
   "cell_type": "markdown",
   "metadata": {
    "hidden": true
   },
   "source": [
    "Our target is to predict the value of bitcoin a week from the end of a training set"
   ]
  },
  {
   "cell_type": "markdown",
   "metadata": {
    "hidden": true
   },
   "source": [
    "As to avoid having more weight given to the time during which Bitcoin was worthless.\n",
    "- I am using the 'more_relivant' time set which is after Oct.25.2017\n",
    "- The reasoning here is \"bitcoin's very low value could be highly due to its nature being unknown to the majority of the public, after that arbitrary point, it became more well known and thus more active\""
   ]
  },
  {
   "cell_type": "markdown",
   "metadata": {
    "hidden": true
   },
   "source": [
    "First our data needs to be scaled before being split\n",
    "    - Otherwise the values at time n would be not properly scaled to the min and max of the data at time n-"
   ]
  },
  {
   "cell_type": "code",
   "execution_count": null,
   "metadata": {
    "hidden": true
   },
   "outputs": [],
   "source": [
    "train = crypto.open[crypto.index<'2018-03-01']\n",
    "test = crypto.open[crypto.index>='2018-03-01']"
   ]
  },
  {
   "cell_type": "code",
   "execution_count": null,
   "metadata": {
    "hidden": true
   },
   "outputs": [],
   "source": [
    "#train = more_rel.open[more_rel.index<'2018-02-01']\n",
    "#test = more_rel.open[more_rel.index>='2018-02-01']"
   ]
  },
  {
   "cell_type": "code",
   "execution_count": null,
   "metadata": {
    "hidden": true
   },
   "outputs": [],
   "source": [
    "#NN need values between 0-1\n",
    "mm = MinMaxScaler()\n",
    "\n",
    "#preprocessing\n",
    "#mm scaler needs atleast a 2D array\n",
    "train = np.reshape(train.values, (len(train), 1))\n",
    "train = mm.fit_transform(train)\n",
    "\n",
    "#here we are predicting Q days ahead\n",
    "Q = 7\n",
    "X_train = train[0:len(train)-Q]\n",
    "y_train = train[Q:len(train)]\n",
    "\n",
    "#RNN again, needs reshaping\n",
    "#the shaping choices were picked for if I want to use a multi-dim training\n",
    "X_train = np.reshape(X_train, (X_train.shape[0], 1, X_train.shape[1]))"
   ]
  },
  {
   "cell_type": "code",
   "execution_count": null,
   "metadata": {
    "hidden": true
   },
   "outputs": [],
   "source": [
    "def model(X_train, y_train, dropout= 0.1, batch_size = 16, lstm_units = 7, activation = 'relu'):\n",
    "    # Initialising the RNN\n",
    "    regressor = Sequential()\n",
    "    \n",
    "    # Adding the input layer and the LSTM layer\n",
    "    regressor.add(LSTM(units = lstm_units, activation = activation, input_shape = (None, 1)))\n",
    "    regressor.add(Dropout(dropout))\n",
    "    \n",
    "    # Adding the output layer\n",
    "    regressor.add(Dense(units = 1))\n",
    "\n",
    "    # Compiling the RNN\n",
    "    regressor.compile(optimizer = 'adam', loss = 'mae')\n",
    "\n",
    "    # Fitting the RNN to the Training set\n",
    "    regressor.fit(X_train, y_train, batch_size = batch_size, epochs = 10,verbose=0)\n",
    "    return(regressor)"
   ]
  },
  {
   "cell_type": "code",
   "execution_count": null,
   "metadata": {
    "hidden": true,
    "scrolled": true
   },
   "outputs": [],
   "source": [
    "regressor = model(X_train,y_train)"
   ]
  },
  {
   "cell_type": "code",
   "execution_count": null,
   "metadata": {
    "hidden": true
   },
   "outputs": [],
   "source": [
    "# Making the predictions\n",
    "test_set = test.values\n",
    "\n",
    "#reshape for scaling\n",
    "val = np.reshape(test_set, (len(test_set), 1))\n",
    "val = mm.transform(val)\n",
    "\n",
    "#reshaped for NN\n",
    "val = np.reshape(val, (len(val), 1, 1))\n",
    "predicted_BTC_price = regressor.predict(val)\n",
    "predicted_BTC_price = mm.inverse_transform(predicted_BTC_price)[:,0]"
   ]
  },
  {
   "cell_type": "code",
   "execution_count": null,
   "metadata": {
    "hidden": true
   },
   "outputs": [],
   "source": [
    "pred = pd.DataFrame({'True':test_set,'Pred':predicted_BTC_price},index=test.index)"
   ]
  },
  {
   "cell_type": "code",
   "execution_count": null,
   "metadata": {
    "hidden": true
   },
   "outputs": [],
   "source": [
    "pred.plot()\n",
    "plt.title('BitCoin True vs Pred')\n",
    "plt.ylabel('Value')\n",
    "plt.xlabel('Date');"
   ]
  },
  {
   "cell_type": "markdown",
   "metadata": {
    "hidden": true
   },
   "source": [
    "- This likely tells us that for the most part the NN assumes the value of bitcoin will remain more stable than it usually does (considering bitcoin's volitile nature)\n",
    "- This can be remedied by:\n",
    "    - Increasing the # of feature by which it is calculating the values\n",
    "    - Adjust the memory that the NN fetchs from in the LSTM cells\n",
    "    - Train more\n",
    "        - the fear with that comes from overfitting to pre-existing trends which would ultimately do no more than say 'the score is basically yesterday's score'"
   ]
  },
  {
   "cell_type": "markdown",
   "metadata": {},
   "source": [
    "## ARIMA"
   ]
  },
  {
   "cell_type": "markdown",
   "metadata": {},
   "source": [
    "Lets go back to more traditional forcasting models"
   ]
  },
  {
   "cell_type": "code",
   "execution_count": null,
   "metadata": {},
   "outputs": [],
   "source": [
    "season = seasonal_decompose(more_rel.open)\n",
    "season.plot();"
   ]
  },
  {
   "cell_type": "code",
   "execution_count": null,
   "metadata": {},
   "outputs": [],
   "source": [
    "#It looks like the variation may align with weeks\n",
    "season.seasonal[68:99].plot();"
   ]
  },
  {
   "cell_type": "code",
   "execution_count": null,
   "metadata": {},
   "outputs": [],
   "source": [
    "first_m = pd.DataFrame({\"season\":season.seasonal})"
   ]
  },
  {
   "cell_type": "code",
   "execution_count": null,
   "metadata": {},
   "outputs": [],
   "source": [
    "first_m['day'] = first_m.index.weekday_name"
   ]
  },
  {
   "cell_type": "code",
   "execution_count": null,
   "metadata": {},
   "outputs": [],
   "source": [
    "first_m.groupby('day')['season'].mean()"
   ]
  },
  {
   "cell_type": "code",
   "execution_count": null,
   "metadata": {},
   "outputs": [],
   "source": [
    "#Again huge imact\n",
    "#It would be interesting to scrape the news/twitter/reddit \n",
    "#for what may have been a predictor for any underlying trends in these residuals\n",
    "season.resid.plot();"
   ]
  },
  {
   "cell_type": "code",
   "execution_count": null,
   "metadata": {},
   "outputs": [],
   "source": [
    "from statsmodels.tsa.stattools import adfuller\n",
    "\n",
    "def test_stationarity(timeseries):\n",
    "\n",
    "    # Determining rolling statistics:\n",
    "    rolmean = timeseries.rolling(window=12, center=False).mean()\n",
    "    rolstd = timeseries.rolling(window=12, center=False).std()\n",
    "\n",
    "    # Plotting rolling statistics:\n",
    "    fig = plt.figure(figsize=(12, 8))\n",
    "    orig = plt.plot(timeseries, color='blue',label='Original')\n",
    "    mean = plt.plot(rolmean, color='red', label='Rolling Mean')\n",
    "    std = plt.plot(rolstd, color='black', label = 'Rolling Std')\n",
    "    plt.legend(loc='best')\n",
    "    plt.title('Rolling Mean & Standard Deviation')\n",
    "    plt.show()\n",
    "    \n",
    "    # Performing a Dickey-Fuller test:\n",
    "    print('Results of Dickey-Fuller Test:')\n",
    "    dftest = adfuller(timeseries)\n",
    "    dfoutput = pd.Series(dftest[0:2], index=['Test Statistic','p-value'])\n",
    "    print(dfoutput )"
   ]
  },
  {
   "cell_type": "markdown",
   "metadata": {},
   "source": [
    "### Seasonal Difference"
   ]
  },
  {
   "cell_type": "code",
   "execution_count": null,
   "metadata": {},
   "outputs": [],
   "source": [
    "S_ana = more_rel"
   ]
  },
  {
   "cell_type": "code",
   "execution_count": null,
   "metadata": {},
   "outputs": [],
   "source": [
    "#so reminder this is our data\n",
    "more_rel.open.head()"
   ]
  },
  {
   "cell_type": "code",
   "execution_count": null,
   "metadata": {},
   "outputs": [],
   "source": [
    "#remember we are paying attention to when bitcoin was relivant, 'more_rel' is a numpy array\n",
    "#more_rel = bit[bit.index>='2017-10-25']"
   ]
  },
  {
   "cell_type": "code",
   "execution_count": null,
   "metadata": {},
   "outputs": [],
   "source": [
    "#let us check and see how stationary the data is, so we can gather what we can from it\n",
    "test_stationarity(S_ana.open)"
   ]
  },
  {
   "cell_type": "markdown",
   "metadata": {},
   "source": [
    "Unsurprising, the values alone are NOT stationary, because it hasn't be adjusted for"
   ]
  },
  {
   "cell_type": "markdown",
   "metadata": {},
   "source": [
    "Let us look at the differences by the day"
   ]
  },
  {
   "cell_type": "code",
   "execution_count": null,
   "metadata": {},
   "outputs": [],
   "source": [
    "S_ana.open.diff(1).plot();"
   ]
  },
  {
   "cell_type": "markdown",
   "metadata": {},
   "source": [
    "Let us check how stationary the data is"
   ]
  },
  {
   "cell_type": "code",
   "execution_count": null,
   "metadata": {},
   "outputs": [],
   "source": [
    "test_stationarity(S_ana.open)"
   ]
  },
  {
   "cell_type": "markdown",
   "metadata": {},
   "source": [
    "Well those map VERY heavily, because its the constant difference to the last value, so yeah it appears that the differences are stationary but that doesnt mean too much"
   ]
  },
  {
   "cell_type": "markdown",
   "metadata": {},
   "source": [
    "Does finding the difference by the season AS well as the day improve things?"
   ]
  },
  {
   "cell_type": "code",
   "execution_count": null,
   "metadata": {},
   "outputs": [],
   "source": [
    "#.diff(1) = diff by the day\n",
    "#.diff(12) = diff by the months in year\n",
    "\n",
    "test_stationarity(S_ana.open.diff(2).dropna())"
   ]
  },
  {
   "cell_type": "markdown",
   "metadata": {},
   "source": [
    "Not dramatically"
   ]
  },
  {
   "cell_type": "code",
   "execution_count": null,
   "metadata": {},
   "outputs": [],
   "source": [
    "#by day   - diff(1)\n",
    "#by week  - diff(7)\n",
    "\n",
    "test_stationarity(S_ana.open.diff(1).diff(7).diff(12).dropna())"
   ]
  },
  {
   "cell_type": "code",
   "execution_count": null,
   "metadata": {},
   "outputs": [],
   "source": [
    "#by day   - diff(1)\n",
    "#by week  - diff(7)\n",
    "#by month - diff(12)\n",
    "#by hour  - diff(24)\n",
    "\n",
    "#there are no more real valid ways to seperate, \n",
    "#this is not particularly useful because the values are so decomposed. \n",
    "#so this is purly for experimental purposes\n",
    "\n",
    "test_stationarity(S_ana.open.diff(1).diff(24).diff(7).diff(12).dropna())"
   ]
  },
  {
   "cell_type": "code",
   "execution_count": null,
   "metadata": {},
   "outputs": [],
   "source": [
    "rr = S_ana.open.diff(2).dropna()"
   ]
  },
  {
   "cell_type": "code",
   "execution_count": null,
   "metadata": {},
   "outputs": [],
   "source": [
    "from statsmodels.tsa.arima_model import ARIMA, ARMA\n",
    "\n",
    "train_2 =  rr.head(len(rr)-21)\n",
    "test_2 = rr.tail(21)\n",
    "\n",
    "model = ARMA(train_2, (2,1)).fit()\n",
    "model.summary()"
   ]
  },
  {
   "cell_type": "markdown",
   "metadata": {},
   "source": [
    "- Wow that model did not do well"
   ]
  },
  {
   "cell_type": "markdown",
   "metadata": {},
   "source": [
    "- Lets see if we can find something better with a gridsearch\n",
    "    - there will be a lot of impossible combinations, hense the 'try' params"
   ]
  },
  {
   "cell_type": "code",
   "execution_count": null,
   "metadata": {},
   "outputs": [],
   "source": [
    "arima_parameters = {\"d\":[0,1,2,3,4,5,6,7],\n",
    "                    \"p\":[0,1,2,3,4,5,6,7],\n",
    "                    \"q\":[0,1,2,3,4,5,6,7]}"
   ]
  },
  {
   "cell_type": "code",
   "execution_count": null,
   "metadata": {},
   "outputs": [],
   "source": [
    "from tqdm import tqdm"
   ]
  },
  {
   "cell_type": "code",
   "execution_count": null,
   "metadata": {},
   "outputs": [],
   "source": [
    "aic_0 = {}\n",
    "for d in tqdm(arima_parameters['d']):\n",
    "    for p in tqdm(arima_parameters['p']):\n",
    "        for q in arima_parameters['q']:\n",
    "            try:\n",
    "                AR2MA = ARIMA(train_2, (p,d,q)).fit();\n",
    "                params = str('|d:{}|p:{}|q:{}|'.format(d,p,q));\n",
    "                aic_0[params] = AR2MA.aic;\n",
    "            except:\n",
    "                continue"
   ]
  },
  {
   "cell_type": "code",
   "execution_count": null,
   "metadata": {},
   "outputs": [],
   "source": [
    "aic_0"
   ]
  },
  {
   "cell_type": "code",
   "execution_count": null,
   "metadata": {},
   "outputs": [],
   "source": [
    "train_2.plot()"
   ]
  },
  {
   "cell_type": "code",
   "execution_count": null,
   "metadata": {},
   "outputs": [],
   "source": []
  },
  {
   "cell_type": "code",
   "execution_count": null,
   "metadata": {},
   "outputs": [],
   "source": [
    "import seaborn as sns"
   ]
  },
  {
   "cell_type": "code",
   "execution_count": null,
   "metadata": {},
   "outputs": [],
   "source": [
    "ax = sns.barplot(x=['Mon', 'Tues', 'Wed', 'Thurs', 'Fri', 'Sat', 'Sun'], \n",
    "            y=rel.bpi.groupby(rel.index.dayofweek).sum())\n",
    "ax.set_title('Frequency of Posts by Time of Day')\n",
    "ax.set_xlabel('Hour of the day')\n",
    "ax.set_ylabel('Sum of Posts');\n",
    "plt.ylim(220000, 233000);"
   ]
  }
 ],
 "metadata": {
  "kernelspec": {
   "display_name": "Python [default]",
   "language": "python",
   "name": "python3"
  }
 },
 "nbformat": 4,
 "nbformat_minor": 2
}
